{
  "nbformat": 4,
  "nbformat_minor": 0,
  "metadata": {
    "kernelspec": {
      "display_name": "Python 3",
      "language": "python",
      "name": "python3"
    },
    "language_info": {
      "codemirror_mode": {
        "name": "ipython",
        "version": 3
      },
      "file_extension": ".py",
      "mimetype": "text/x-python",
      "name": "python",
      "nbconvert_exporter": "python",
      "pygments_lexer": "ipython3",
      "version": "3.7.6"
    },
    "colab": {
      "name": "Final AI.ipynb",
      "provenance": [],
      "collapsed_sections": []
    }
  },
  "cells": [
    {
      "cell_type": "markdown",
      "metadata": {
        "id": "SaX1DvzDjUCV"
      },
      "source": [
        "\n",
        "\n",
        "\n",
        "# **Heart Attack Data Analysis**\n",
        "\n",
        "\n"
      ]
    },
    {
      "cell_type": "markdown",
      "metadata": {
        "id": "7KHiEr24jzVQ"
      },
      "source": [
        "**Importing the necessary modules**"
      ]
    },
    {
      "cell_type": "code",
      "metadata": {
        "id": "ovsjh0GxAHMr"
      },
      "source": [
        "import pandas as pd   # data handling\n",
        "import numpy as np    # array handling\n",
        "import matplotlib.pyplot as plt # for visualization\n",
        "from sklearn.model_selection import train_test_split # splits tha data into train and test\n",
        "from sklearn.preprocessing import StandardScaler    # to Standarize the data\n",
        "\n",
        "# models\n",
        "from sklearn.neighbors import KNeighborsClassifier  \n",
        "from sklearn.tree import DecisionTreeClassifier\n",
        "from sklearn.linear_model import LogisticRegression\n",
        "from sklearn.svm import SVC\n",
        "\n",
        "# accuracy measures\n",
        "from sklearn.metrics import confusion_matrix, accuracy_score, f1_score, mean_squared_error, average_precision_score"
      ],
      "execution_count": null,
      "outputs": []
    },
    {
      "cell_type": "markdown",
      "metadata": {
        "id": "hbfkD0gZkFyW"
      },
      "source": [
        "**Data Reading:**"
      ]
    },
    {
      "cell_type": "code",
      "metadata": {
        "colab": {
          "base_uri": "https://localhost:8080/",
          "height": 195
        },
        "id": "1VNVNVIIALsv",
        "outputId": "0f4e808e-338f-4633-c15b-5f66127538d3"
      },
      "source": [
        "df = pd.read_csv(\"heart.csv\") # reading the data file\n",
        "\n",
        "df.head()  # data"
      ],
      "execution_count": null,
      "outputs": [
        {
          "output_type": "execute_result",
          "data": {
            "text/html": [
              "<div>\n",
              "<style scoped>\n",
              "    .dataframe tbody tr th:only-of-type {\n",
              "        vertical-align: middle;\n",
              "    }\n",
              "\n",
              "    .dataframe tbody tr th {\n",
              "        vertical-align: top;\n",
              "    }\n",
              "\n",
              "    .dataframe thead th {\n",
              "        text-align: right;\n",
              "    }\n",
              "</style>\n",
              "<table border=\"1\" class=\"dataframe\">\n",
              "  <thead>\n",
              "    <tr style=\"text-align: right;\">\n",
              "      <th></th>\n",
              "      <th>age</th>\n",
              "      <th>sex</th>\n",
              "      <th>cp</th>\n",
              "      <th>trestbps</th>\n",
              "      <th>chol</th>\n",
              "      <th>fbs</th>\n",
              "      <th>restecg</th>\n",
              "      <th>thalach</th>\n",
              "      <th>exang</th>\n",
              "      <th>oldpeak</th>\n",
              "      <th>slope</th>\n",
              "      <th>ca</th>\n",
              "      <th>thal</th>\n",
              "      <th>target</th>\n",
              "    </tr>\n",
              "  </thead>\n",
              "  <tbody>\n",
              "    <tr>\n",
              "      <th>0</th>\n",
              "      <td>63</td>\n",
              "      <td>1</td>\n",
              "      <td>3</td>\n",
              "      <td>145</td>\n",
              "      <td>233</td>\n",
              "      <td>1</td>\n",
              "      <td>0</td>\n",
              "      <td>150</td>\n",
              "      <td>0</td>\n",
              "      <td>2.3</td>\n",
              "      <td>0</td>\n",
              "      <td>0</td>\n",
              "      <td>1</td>\n",
              "      <td>1</td>\n",
              "    </tr>\n",
              "    <tr>\n",
              "      <th>1</th>\n",
              "      <td>37</td>\n",
              "      <td>1</td>\n",
              "      <td>2</td>\n",
              "      <td>130</td>\n",
              "      <td>250</td>\n",
              "      <td>0</td>\n",
              "      <td>1</td>\n",
              "      <td>187</td>\n",
              "      <td>0</td>\n",
              "      <td>3.5</td>\n",
              "      <td>0</td>\n",
              "      <td>0</td>\n",
              "      <td>2</td>\n",
              "      <td>1</td>\n",
              "    </tr>\n",
              "    <tr>\n",
              "      <th>2</th>\n",
              "      <td>41</td>\n",
              "      <td>0</td>\n",
              "      <td>1</td>\n",
              "      <td>130</td>\n",
              "      <td>204</td>\n",
              "      <td>0</td>\n",
              "      <td>0</td>\n",
              "      <td>172</td>\n",
              "      <td>0</td>\n",
              "      <td>1.4</td>\n",
              "      <td>2</td>\n",
              "      <td>0</td>\n",
              "      <td>2</td>\n",
              "      <td>1</td>\n",
              "    </tr>\n",
              "    <tr>\n",
              "      <th>3</th>\n",
              "      <td>56</td>\n",
              "      <td>1</td>\n",
              "      <td>1</td>\n",
              "      <td>120</td>\n",
              "      <td>236</td>\n",
              "      <td>0</td>\n",
              "      <td>1</td>\n",
              "      <td>178</td>\n",
              "      <td>0</td>\n",
              "      <td>0.8</td>\n",
              "      <td>2</td>\n",
              "      <td>0</td>\n",
              "      <td>2</td>\n",
              "      <td>1</td>\n",
              "    </tr>\n",
              "    <tr>\n",
              "      <th>4</th>\n",
              "      <td>57</td>\n",
              "      <td>0</td>\n",
              "      <td>0</td>\n",
              "      <td>120</td>\n",
              "      <td>354</td>\n",
              "      <td>0</td>\n",
              "      <td>1</td>\n",
              "      <td>163</td>\n",
              "      <td>1</td>\n",
              "      <td>0.6</td>\n",
              "      <td>2</td>\n",
              "      <td>0</td>\n",
              "      <td>2</td>\n",
              "      <td>1</td>\n",
              "    </tr>\n",
              "  </tbody>\n",
              "</table>\n",
              "</div>"
            ],
            "text/plain": [
              "   age  sex  cp  trestbps  chol  fbs  ...  exang  oldpeak  slope  ca  thal  target\n",
              "0   63    1   3       145   233    1  ...      0      2.3      0   0     1       1\n",
              "1   37    1   2       130   250    0  ...      0      3.5      0   0     2       1\n",
              "2   41    0   1       130   204    0  ...      0      1.4      2   0     2       1\n",
              "3   56    1   1       120   236    0  ...      0      0.8      2   0     2       1\n",
              "4   57    0   0       120   354    0  ...      1      0.6      2   0     2       1\n",
              "\n",
              "[5 rows x 14 columns]"
            ]
          },
          "metadata": {
            "tags": []
          },
          "execution_count": 94
        }
      ]
    },
    {
      "cell_type": "markdown",
      "metadata": {
        "id": "sltDN2sCkQ4C"
      },
      "source": [
        "**Data Analysis:**"
      ]
    },
    {
      "cell_type": "code",
      "metadata": {
        "colab": {
          "base_uri": "https://localhost:8080/"
        },
        "id": "UtJi9rm7AbGs",
        "outputId": "555ab6f7-8785-46ab-95e3-e718e4b76d4c"
      },
      "source": [
        "print(f\"Number of rows in dataset: {df.shape[0]}\") \n",
        "print(f\"Number of columns in dataset: {df.shape[1]}\")"
      ],
      "execution_count": null,
      "outputs": [
        {
          "output_type": "stream",
          "text": [
            "Number of rows in dataset: 303\n",
            "Number of columns in dataset: 14\n"
          ],
          "name": "stdout"
        }
      ]
    },
    {
      "cell_type": "code",
      "metadata": {
        "colab": {
          "base_uri": "https://localhost:8080/"
        },
        "id": "TY7vmMsXgm3Y",
        "outputId": "4eb614fc-179d-48b1-e755-392584c53b31"
      },
      "source": [
        "df.info()"
      ],
      "execution_count": null,
      "outputs": [
        {
          "output_type": "stream",
          "text": [
            "<class 'pandas.core.frame.DataFrame'>\n",
            "RangeIndex: 303 entries, 0 to 302\n",
            "Data columns (total 14 columns):\n",
            " #   Column    Non-Null Count  Dtype  \n",
            "---  ------    --------------  -----  \n",
            " 0   age       303 non-null    int64  \n",
            " 1   sex       303 non-null    int64  \n",
            " 2   cp        303 non-null    int64  \n",
            " 3   trestbps  303 non-null    int64  \n",
            " 4   chol      303 non-null    int64  \n",
            " 5   fbs       303 non-null    int64  \n",
            " 6   restecg   303 non-null    int64  \n",
            " 7   thalach   303 non-null    int64  \n",
            " 8   exang     303 non-null    int64  \n",
            " 9   oldpeak   303 non-null    float64\n",
            " 10  slope     303 non-null    int64  \n",
            " 11  ca        303 non-null    int64  \n",
            " 12  thal      303 non-null    int64  \n",
            " 13  target    303 non-null    int64  \n",
            "dtypes: float64(1), int64(13)\n",
            "memory usage: 33.3 KB\n"
          ],
          "name": "stdout"
        }
      ]
    },
    {
      "cell_type": "markdown",
      "metadata": {
        "id": "MW9b5J02kdH_"
      },
      "source": [
        "**Data Partition:**"
      ]
    },
    {
      "cell_type": "code",
      "metadata": {
        "id": "zKQy1k-eA5gv"
      },
      "source": [
        "x = df.iloc[:,0:13].values    # seprating input variables\n",
        "y = df.iloc[:,-1].values      # seprating output variables\n",
        "\n",
        "train_x, test_x, train_y, test_y = train_test_split(x, y, test_size=0.3)    # splitting the data into test and train \n"
      ],
      "execution_count": null,
      "outputs": []
    },
    {
      "cell_type": "markdown",
      "metadata": {
        "id": "YK5OXxYuks-Z"
      },
      "source": [
        "**Standarizing the input Data:**"
      ]
    },
    {
      "cell_type": "code",
      "metadata": {
        "id": "QG0QTsqukuVp"
      },
      "source": [
        "scale = StandardScaler()\n",
        "train_x = scale.fit_transform(train_x)\n",
        "test_x = scale.transform(test_x)"
      ],
      "execution_count": null,
      "outputs": []
    },
    {
      "cell_type": "markdown",
      "metadata": {
        "id": "t-vwKFWBk7y2"
      },
      "source": [
        "**Applying the KNN model:**"
      ]
    },
    {
      "cell_type": "code",
      "metadata": {
        "colab": {
          "base_uri": "https://localhost:8080/",
          "height": 413
        },
        "id": "oEoMxLuLE0Ej",
        "outputId": "3c0f658c-95ad-4573-8b0b-d8bd0ea01f99"
      },
      "source": [
        "all_neighbours = []\n",
        "for i in range(0, 10):  # finding the best K with respect to accuracy\n",
        "  KNN = KNeighborsClassifier(i+1)\n",
        "  KNN.fit(train_x, train_y)\n",
        "\n",
        "  predict_y = KNN.predict(test_x)\n",
        "  accuracy = accuracy_score(test_y, predict_y)*100\n",
        "  all_neighbours.append(accuracy)\n",
        "\n",
        "best_neighbour = all_neighbours.index(max(all_neighbours)) + 1 \n",
        "\n",
        "# Plotting the best K\n",
        "\n",
        "n = [i for i in range(1, len(all_neighbours)+1)]\n",
        "all = all_neighbours\n",
        "\n",
        "low = min(all)\n",
        "high = max(all)\n",
        "plt.ylim([np.ceil(low-0.5*(high-low)), np.ceil(high+0.5*(high-low))])\n",
        "plt.bar(n,all)\n",
        "plt.title(\"Best K-Neighbour Plot\")\n",
        "plt.xlabel(\"N-Neighbour\")\n",
        "plt.ylabel(\"Accuracy %\")\n",
        "plt.show()\n",
        "\n",
        "print(f\"Best N-Neigbour is: {best_neighbour}\")\n",
        "\n",
        "KNN = KNeighborsClassifier(best_neighbour)  # Model with best k\n",
        "KNN.fit(train_x, train_y)\n",
        "\n",
        "predict_y = KNN.predict(test_x) # predicted result for test data\n",
        "\n",
        "KNN_accuracy = accuracy_score(test_y, predict_y)\n",
        "KNN_f1 = f1_score(test_y, predict_y)\n",
        "KNN_mse = mean_squared_error(test_y, predict_y)\n",
        "KNN_percision = average_precision_score(test_y, predict_y)\n",
        "\n",
        "print(f\"Confusion Matrix: \\n{confusion_matrix(test_y, predict_y)}\")   # Conusion matrix\n",
        "print(f\"Accuracy: {KNN_accuracy}\")  # accuracy score for test data\n",
        "print(f\"Mean Squared Error: {KNN_mse}\") # Mean Squared Error\n",
        "print(f\"F1 score: {KNN_f1}\") # F1-score"
      ],
      "execution_count": null,
      "outputs": [
        {
          "output_type": "display_data",
          "data": {
            "image/png": "[encoded data removed]",
            "text/plain": [
              "<Figure size 432x288 with 1 Axes>"
            ]
          },
          "metadata": {
            "tags": [],
            "needs_background": "light"
          }
        },
        {
          "output_type": "stream",
          "text": [
            "Best N-Neigbour is: 9\n",
            "Confusion Matrix: \n",
            "[[30  9]\n",
            " [ 4 48]]\n",
            "Accuracy: 0.8571428571428571\n",
            "Mean Squared Error: 0.14285714285714285\n",
            "F1 score: 0.8807339449541285\n"
          ],
          "name": "stdout"
        }
      ]
    },
    {
      "cell_type": "markdown",
      "metadata": {
        "id": "LsaTqzmmojpH"
      },
      "source": [
        "**Applying the Decision Tree:**"
      ]
    },
    {
      "cell_type": "code",
      "metadata": {
        "id": "bgapTd_SmFVI",
        "colab": {
          "base_uri": "https://localhost:8080/"
        },
        "outputId": "ce92ff3c-81ff-4ec2-abaf-4b7a095f080c"
      },
      "source": [
        "clf = DecisionTreeClassifier(criterion = 'entropy',random_state=0,max_depth = 6)\n",
        "clf.fit(train_x, train_y)\n",
        "\n",
        "predict_y = clf.predict(test_x) # predicted y for test data\n",
        "\n",
        "clf_accuracy = accuracy_score(test_y, predict_y)\n",
        "clf_f1 = f1_score(test_y, predict_y)\n",
        "clf_mse = mean_squared_error(test_y, predict_y)\n",
        "clf_percision = average_precision_score(test_y, predict_y)\n",
        "\n",
        "print(f\"Confusion Matrix: \\n{confusion_matrix(test_y, predict_y)}\")   # Conusion matrix\n",
        "print(f\"Accuracy: {clf_accuracy}\")  # accuracy score for test data\n",
        "print(f\"Mean Squared Error: {clf_mse}\") # Mean Squared Error\n",
        "print(f\"F1 score: {clf_f1}\") # F1-score"
      ],
      "execution_count": null,
      "outputs": [
        {
          "output_type": "stream",
          "text": [
            "Confusion Matrix: \n",
            "[[29 10]\n",
            " [14 38]]\n",
            "Accuracy: 0.7362637362637363\n",
            "Mean Squared Error: 0.26373626373626374\n",
            "F1 score: 0.76\n"
          ],
          "name": "stdout"
        }
      ]
    },
    {
      "cell_type": "markdown",
      "metadata": {
        "id": "WQIg4Ktko8j-"
      },
      "source": [
        "**Applying Logistic Regression:**"
      ]
    },
    {
      "cell_type": "code",
      "metadata": {
        "colab": {
          "base_uri": "https://localhost:8080/"
        },
        "id": "UmDODc69LjmV",
        "outputId": "03ddc98a-46df-48ca-8013-bb0fd9d82992"
      },
      "source": [
        "lr = LogisticRegression()\n",
        "lr.fit(train_x, train_y)\n",
        "\n",
        "predict_y = lr.predict(test_x)\n",
        "\n",
        "lr_accuracy = accuracy_score(test_y, predict_y)\n",
        "lr_f1 = f1_score(test_y, predict_y)\n",
        "lr_mse = mean_squared_error(test_y, predict_y)\n",
        "lr_percision = average_precision_score(test_y, predict_y)\n",
        "\n",
        "print(f\"Confusion Matrix: \\n{confusion_matrix(test_y, predict_y)}\")   # Conusion matrix\n",
        "print(f\"Accuracy: {lr_accuracy}\")  # accuracy score for test data\n",
        "print(f\"Mean Squared Error: {lr_mse}\") # Mean Squared Error\n",
        "print(f\"F1 score: {lr_f1}\") # F1-score"
      ],
      "execution_count": null,
      "outputs": [
        {
          "output_type": "stream",
          "text": [
            "Confusion Matrix: \n",
            "[[32  7]\n",
            " [ 5 47]]\n",
            "Accuracy: 0.8681318681318682\n",
            "Mean Squared Error: 0.13186813186813187\n",
            "F1 score: 0.8867924528301887\n"
          ],
          "name": "stdout"
        }
      ]
    },
    {
      "cell_type": "markdown",
      "metadata": {
        "id": "L_3Rw43xpGul"
      },
      "source": [
        "**Applying Support Vector Classifier:**"
      ]
    },
    {
      "cell_type": "code",
      "metadata": {
        "colab": {
          "base_uri": "https://localhost:8080/"
        },
        "id": "I4H6rBTANLfr",
        "outputId": "b7e6b98b-295d-4025-8a79-8f102dd653e8"
      },
      "source": [
        "sv = SVC(kernel='linear')\n",
        "sv.fit(train_x, train_y)\n",
        "\n",
        "predict_y = sv.predict(test_x)\n",
        "\n",
        "sv_accuracy = accuracy_score(test_y, predict_y)\n",
        "sv_f1 = f1_score(test_y, predict_y)\n",
        "sv_mse = mean_squared_error(test_y, predict_y)\n",
        "sv_percision = average_precision_score(test_y, predict_y)\n",
        "\n",
        "print(f\"Confusion Matrix: \\n{confusion_matrix(test_y, predict_y)}\")   # Conusion matrix\n",
        "print(f\"Accuracy: {sv_accuracy}\")  # accuracy score for test data\n",
        "print(f\"Mean Squared Error: {sv_mse}\") # Mean Squared Error\n",
        "print(f\"F1 score: {sv_f1}\") # F1-score"
      ],
      "execution_count": null,
      "outputs": [
        {
          "output_type": "stream",
          "text": [
            "Confusion Matrix: \n",
            "[[31  8]\n",
            " [ 8 44]]\n",
            "Accuracy: 0.8241758241758241\n",
            "Mean Squared Error: 0.17582417582417584\n",
            "F1 score: 0.8461538461538461\n"
          ],
          "name": "stdout"
        }
      ]
    },
    {
      "cell_type": "markdown",
      "metadata": {
        "id": "8zgAgC6DpQIN"
      },
      "source": [
        "**Finding the Best Model:**"
      ]
    },
    {
      "cell_type": "code",
      "metadata": {
        "colab": {
          "base_uri": "https://localhost:8080/",
          "height": 166
        },
        "id": "RkauDyBqP7vT",
        "outputId": "a09e89e2-fdbb-4fee-f28d-9f1c07a41c16"
      },
      "source": [
        "df_accuracy = pd.DataFrame({'Model': ['K-Nearest Neighbour','Decisoin Tree','Logistic Regression','Support Vector Machine'],\n",
        "                         'Accuracy': [KNN_accuracy*100, clf_accuracy*100, lr_accuracy*100, sv_accuracy*100]})\n",
        "df_accuracy"
      ],
      "execution_count": null,
      "outputs": [
        {
          "output_type": "execute_result",
          "data": {
            "text/html": [
              "<div>\n",
              "<style scoped>\n",
              "    .dataframe tbody tr th:only-of-type {\n",
              "        vertical-align: middle;\n",
              "    }\n",
              "\n",
              "    .dataframe tbody tr th {\n",
              "        vertical-align: top;\n",
              "    }\n",
              "\n",
              "    .dataframe thead th {\n",
              "        text-align: right;\n",
              "    }\n",
              "</style>\n",
              "<table border=\"1\" class=\"dataframe\">\n",
              "  <thead>\n",
              "    <tr style=\"text-align: right;\">\n",
              "      <th></th>\n",
              "      <th>Model</th>\n",
              "      <th>Accuracy</th>\n",
              "    </tr>\n",
              "  </thead>\n",
              "  <tbody>\n",
              "    <tr>\n",
              "      <th>0</th>\n",
              "      <td>K-Nearest Neighbour</td>\n",
              "      <td>85.714286</td>\n",
              "    </tr>\n",
              "    <tr>\n",
              "      <th>1</th>\n",
              "      <td>Decisoin Tree</td>\n",
              "      <td>73.626374</td>\n",
              "    </tr>\n",
              "    <tr>\n",
              "      <th>2</th>\n",
              "      <td>Logistic Regression</td>\n",
              "      <td>86.813187</td>\n",
              "    </tr>\n",
              "    <tr>\n",
              "      <th>3</th>\n",
              "      <td>Support Vector Machine</td>\n",
              "      <td>82.417582</td>\n",
              "    </tr>\n",
              "  </tbody>\n",
              "</table>\n",
              "</div>"
            ],
            "text/plain": [
              "                    Model   Accuracy\n",
              "0     K-Nearest Neighbour  85.714286\n",
              "1           Decisoin Tree  73.626374\n",
              "2     Logistic Regression  86.813187\n",
              "3  Support Vector Machine  82.417582"
            ]
          },
          "metadata": {
            "tags": []
          },
          "execution_count": 103
        }
      ]
    },
    {
      "cell_type": "markdown",
      "metadata": {
        "id": "x84ceAXcpgBr"
      },
      "source": [
        "**Plotting the Analysis:**"
      ]
    },
    {
      "cell_type": "code",
      "metadata": {
        "colab": {
          "base_uri": "https://localhost:8080/",
          "height": 438
        },
        "id": "PC5u_EIAOEu_",
        "outputId": "5878ca4b-c07d-4204-ed0d-fa684d9c2407"
      },
      "source": [
        "plt.figure(figsize=(9,6))\n",
        "plt.xlabel(\"Accuracy %\")\n",
        "plt.ylabel(\"Models\")\n",
        "plt.title(\"Accuracy of different models\")\n",
        "plt.bar(df_accuracy['Model'],df_accuracy['Accuracy'], color= ['red', 'green', 'blue', 'orange'])\n",
        "plt.show()\n",
        "\n",
        "row = df_accuracy.iloc[:,-1].argmax()\n",
        "\n",
        "\n",
        "print(f'The best model is: {df_accuracy.iloc[row,0]} \\nwith Accuracy: {list(df_accuracy.max())[-1]}')"
      ],
      "execution_count": null,
      "outputs": [
        {
          "output_type": "display_data",
          "data": {
            "image/png": "[encoded data removed]",
            "text/plain": [
              "<Figure size 648x432 with 1 Axes>"
            ]
          },
          "metadata": {
            "tags": [],
            "needs_background": "light"
          }
        },
        {
          "output_type": "stream",
          "text": [
            "The best model is: Logistic Regression \n",
            "with Accuracy: 86.81318681318682\n"
          ],
          "name": "stdout"
        }
      ]
    },
    {
      "cell_type": "markdown",
      "metadata": {
        "id": "eDetbvrTpu4g"
      },
      "source": [
        "**Finding the Features Importance:**"
      ]
    },
    {
      "cell_type": "code",
      "metadata": {
        "colab": {
          "base_uri": "https://localhost:8080/",
          "height": 404
        },
        "id": "CXPXkIovczvk",
        "outputId": "1a2340aa-f594-42e1-8cb9-89c9c205cb59"
      },
      "source": [
        "df_feature = pd.DataFrame({'Feature': ['age', 'sex', 'cp', 'trestbps', 'chol', 'fbs', 'restecg', 'thalach', 'exang', 'oldpeak', 'slope', 'ca', 'thal'],\n",
        "                            'Importance': [abs(each) for each in sv.coef_.flatten()]})\n",
        "plt.figure(figsize=(10,5))\n",
        "plt.title(\"Feature importance \")\n",
        "plt.xlabel(\"Importance \")\n",
        "plt.ylabel(\"Features\")\n",
        "plt.barh(df_feature['Feature'], df_feature['Importance'],color = 'rgbkymc')\n",
        "plt.show()"
      ],
      "execution_count": null,
      "outputs": [
        {
          "output_type": "stream",
          "text": [
            "/usr/local/lib/python3.6/dist-packages/ipykernel_launcher.py:7: MatplotlibDeprecationWarning: Using a string of single character colors as a color sequence is deprecated. Use an explicit list instead.\n",
            "  import sys\n"
          ],
          "name": "stderr"
        },
        {
          "output_type": "display_data",
          "data": {
            "image/png": "[encoded data removed]",
            "text/plain": [
              "<Figure size 720x360 with 1 Axes>"
            ]
          },
          "metadata": {
            "tags": [],
            "needs_background": "light"
          }
        }
      ]
    },
    {
      "cell_type": "markdown",
      "metadata": {
        "id": "A2b5-ON7vROv"
      },
      "source": [
        "**Detailed Evaluation Measures:**"
      ]
    },
    {
      "cell_type": "code",
      "metadata": {
        "colab": {
          "base_uri": "https://localhost:8080/",
          "height": 166
        },
        "id": "BWCUunlRmlwk",
        "outputId": "3e312c38-4888-43a6-e20f-36ecc3e49235"
      },
      "source": [
        "df_measures = pd.DataFrame({'Model': ['K-Nearest Neighbour','Decision Tree','Logistic Regression','Support Vector Machine'],\n",
        "                         'Accuracy': [KNN_accuracy, clf_accuracy, lr_accuracy, sv_accuracy],\n",
        "                         'F1-score': [KNN_f1, clf_f1, lr_f1, sv_f1],\n",
        "                         'MSE': [KNN_mse, clf_mse, lr_mse, sv_f1],\n",
        "                         'Percision': [KNN_percision, clf_percision, lr_percision, sv_percision]})\n",
        "df_measures"
      ],
      "execution_count": null,
      "outputs": [
        {
          "output_type": "execute_result",
          "data": {
            "text/html": [
              "<div>\n",
              "<style scoped>\n",
              "    .dataframe tbody tr th:only-of-type {\n",
              "        vertical-align: middle;\n",
              "    }\n",
              "\n",
              "    .dataframe tbody tr th {\n",
              "        vertical-align: top;\n",
              "    }\n",
              "\n",
              "    .dataframe thead th {\n",
              "        text-align: right;\n",
              "    }\n",
              "</style>\n",
              "<table border=\"1\" class=\"dataframe\">\n",
              "  <thead>\n",
              "    <tr style=\"text-align: right;\">\n",
              "      <th></th>\n",
              "      <th>Model</th>\n",
              "      <th>Accuracy</th>\n",
              "      <th>F1-score</th>\n",
              "      <th>MSE</th>\n",
              "      <th>Percision</th>\n",
              "    </tr>\n",
              "  </thead>\n",
              "  <tbody>\n",
              "    <tr>\n",
              "      <th>0</th>\n",
              "      <td>K-Nearest Neighbour</td>\n",
              "      <td>0.857143</td>\n",
              "      <td>0.880734</td>\n",
              "      <td>0.142857</td>\n",
              "      <td>0.821284</td>\n",
              "    </tr>\n",
              "    <tr>\n",
              "      <th>1</th>\n",
              "      <td>Decisoin Tree</td>\n",
              "      <td>0.736264</td>\n",
              "      <td>0.760000</td>\n",
              "      <td>0.263736</td>\n",
              "      <td>0.732372</td>\n",
              "    </tr>\n",
              "    <tr>\n",
              "      <th>2</th>\n",
              "      <td>Logistic Regression</td>\n",
              "      <td>0.868132</td>\n",
              "      <td>0.886792</td>\n",
              "      <td>0.131868</td>\n",
              "      <td>0.841626</td>\n",
              "    </tr>\n",
              "    <tr>\n",
              "      <th>3</th>\n",
              "      <td>Support Vector Machine</td>\n",
              "      <td>0.824176</td>\n",
              "      <td>0.846154</td>\n",
              "      <td>0.846154</td>\n",
              "      <td>0.803888</td>\n",
              "    </tr>\n",
              "  </tbody>\n",
              "</table>\n",
              "</div>"
            ],
            "text/plain": [
              "                    Model  Accuracy  F1-score       MSE  Percision\n",
              "0     K-Nearest Neighbour  0.857143  0.880734  0.142857   0.821284\n",
              "1           Decisoin Tree  0.736264  0.760000  0.263736   0.732372\n",
              "2     Logistic Regression  0.868132  0.886792  0.131868   0.841626\n",
              "3  Support Vector Machine  0.824176  0.846154  0.846154   0.803888"
            ]
          },
          "metadata": {
            "tags": []
          },
          "execution_count": 110
        }
      ]
    },
    {
      "cell_type": "markdown",
      "metadata": {
        "id": "g4-6bCiUw61Y"
      },
      "source": [
        "**Conclusion:**</br>\n",
        "  By analysing, we can clearly see the following deatils:</br>\n",
        "\n",
        "1.   Thal has the most effect on the heart attack </br>\n",
        "2.   The best model is Logistic Regression for this data.\n",
        "\n"
      ]
    }
  ]
}